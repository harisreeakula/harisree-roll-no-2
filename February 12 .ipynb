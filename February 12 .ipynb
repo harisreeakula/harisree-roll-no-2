{
 "cells": [
  {
   "cell_type": "code",
   "execution_count": 1,
   "id": "ccf25af4",
   "metadata": {},
   "outputs": [
    {
     "data": {
      "text/plain": [
       "array([1, 2, 3])"
      ]
     },
     "execution_count": 1,
     "metadata": {},
     "output_type": "execute_result"
    }
   ],
   "source": [
    "import numpy as np\n",
    "t1=(1,2,3)\n",
    "ar1=np.array(t1)\n",
    "ar1\n"
   ]
  },
  {
   "cell_type": "code",
   "execution_count": 2,
   "id": "a65552de",
   "metadata": {},
   "outputs": [
    {
     "data": {
      "text/plain": [
       "array({1, 2, 3}, dtype=object)"
      ]
     },
     "execution_count": 2,
     "metadata": {},
     "output_type": "execute_result"
    }
   ],
   "source": [
    "import numpy as np\n",
    "t1={1,2,3}\n",
    "ar1=np.array(t1)\n",
    "ar1"
   ]
  },
  {
   "cell_type": "code",
   "execution_count": 3,
   "id": "23ad6447",
   "metadata": {},
   "outputs": [
    {
     "name": "stdout",
     "output_type": "stream",
     "text": [
      "hari\n",
      "<__main__.c1 object at 0x000001FB74170E10>\n"
     ]
    }
   ],
   "source": [
    "class c1:\n",
    "    name = \"hari\"\n",
    "    age = 18\n",
    "obj = c1()\n",
    "print(obj.name)\n",
    "print(obj)\n"
   ]
  },
  {
   "cell_type": "code",
   "execution_count": 4,
   "id": "cc0ade9f",
   "metadata": {},
   "outputs": [
    {
     "data": {
      "text/plain": [
       "dtype('<U5')"
      ]
     },
     "execution_count": 4,
     "metadata": {},
     "output_type": "execute_result"
    }
   ],
   "source": [
    "t1=\"hello\"\n",
    "ar1=np.array(t1)\n",
    "ar1.dtype"
   ]
  },
  {
   "cell_type": "code",
   "execution_count": 5,
   "id": "40070ac4",
   "metadata": {},
   "outputs": [
    {
     "data": {
      "text/plain": [
       "array({'a': 100, 'b': 200}, dtype=object)"
      ]
     },
     "execution_count": 5,
     "metadata": {},
     "output_type": "execute_result"
    }
   ],
   "source": [
    "t1={\"a\":100, \"b\":200}\n",
    "ar1=np.array(t1)\n",
    "ar1\n"
   ]
  },
  {
   "cell_type": "code",
   "execution_count": 6,
   "id": "8ce88f72",
   "metadata": {},
   "outputs": [
    {
     "data": {
      "text/plain": [
       "{'a': 100, 'b': 200}"
      ]
     },
     "execution_count": 6,
     "metadata": {},
     "output_type": "execute_result"
    }
   ],
   "source": [
    "ar1.tolist()"
   ]
  },
  {
   "cell_type": "code",
   "execution_count": 7,
   "id": "1d9a0f27",
   "metadata": {},
   "outputs": [],
   "source": [
    "ar2 = [1,2,3,4,5]\n",
    "np_ar =np.array(ar2)"
   ]
  },
  {
   "cell_type": "code",
   "execution_count": 8,
   "id": "c3b9051d",
   "metadata": {},
   "outputs": [
    {
     "data": {
      "text/plain": [
       "[1, 2, 3, 4, 5]"
      ]
     },
     "execution_count": 8,
     "metadata": {},
     "output_type": "execute_result"
    }
   ],
   "source": [
    "ar2"
   ]
  },
  {
   "cell_type": "code",
   "execution_count": 9,
   "id": "f16cfda8",
   "metadata": {},
   "outputs": [
    {
     "data": {
      "text/plain": [
       "array([1, 2, 3, 4, 5, 2, 4, 6, 7])"
      ]
     },
     "execution_count": 9,
     "metadata": {},
     "output_type": "execute_result"
    }
   ],
   "source": [
    "#to add multiple values:\n",
    "new_ar = np.append(np_ar, [2,4,6,7])\n",
    "new_ar"
   ]
  },
  {
   "cell_type": "code",
   "execution_count": 10,
   "id": "db67eef6",
   "metadata": {},
   "outputs": [
    {
     "data": {
      "text/plain": [
       "array([  1,   2, 123,   3,   4,   5])"
      ]
     },
     "execution_count": 10,
     "metadata": {},
     "output_type": "execute_result"
    }
   ],
   "source": [
    "#to insert()\n",
    "#based on the index value to add the elemnt into array:\n",
    "new_ar = np.insert(np_ar,2,123 )\n",
    "new_ar"
   ]
  },
  {
   "cell_type": "code",
   "execution_count": 11,
   "id": "f3fe7e12",
   "metadata": {},
   "outputs": [
    {
     "data": {
      "text/plain": [
       "array([  1,   2, 456, 333,  37,   3,   4,   5])"
      ]
     },
     "execution_count": 11,
     "metadata": {},
     "output_type": "execute_result"
    }
   ],
   "source": [
    "#to insert multiple values in the array\n",
    "#np.insert(array_to_be_modified,index_position,values in list or tuple)\n",
    "new_ar = np.insert(np_ar,2,(456,333,37))\n",
    "new_ar"
   ]
  },
  {
   "cell_type": "code",
   "execution_count": 12,
   "id": "bd89d242",
   "metadata": {},
   "outputs": [
    {
     "data": {
      "text/plain": [
       "array([1, 2, 3, 4, 5])"
      ]
     },
     "execution_count": 12,
     "metadata": {},
     "output_type": "execute_result"
    }
   ],
   "source": [
    "#1 DELETE FROM AN ARRAY 1\n",
    "np_ar"
   ]
  },
  {
   "cell_type": "code",
   "execution_count": 14,
   "id": "938eb75f",
   "metadata": {},
   "outputs": [
    {
     "data": {
      "text/plain": [
       "array([1, 2, 4, 5])"
      ]
     },
     "execution_count": 14,
     "metadata": {},
     "output_type": "execute_result"
    }
   ],
   "source": [
    "nr = np.delete(np_ar,np.where(np_ar==3))\n",
    "nr"
   ]
  },
  {
   "cell_type": "code",
   "execution_count": 15,
   "id": "17de96c2",
   "metadata": {},
   "outputs": [
    {
     "name": "stdout",
     "output_type": "stream",
     "text": [
      "mohan\n",
      "<__main__.c1 object at 0x000001FB74175F10>\n"
     ]
    }
   ],
   "source": [
    "class c1:\n",
    "    name = \"mohan\"\n",
    "    age = 20\n",
    "obj = c1()\n",
    "print(obj.name)\n",
    "print(obj)\n"
   ]
  },
  {
   "cell_type": "code",
   "execution_count": 16,
   "id": "3b8a0aa4",
   "metadata": {},
   "outputs": [
    {
     "data": {
      "text/plain": [
       "array([5])"
      ]
     },
     "execution_count": 16,
     "metadata": {},
     "output_type": "execute_result"
    }
   ],
   "source": [
    "#to delete number of values in array:\n",
    "nr = np.setdiff1d(np_ar, [1.0,4,3,2])\n",
    "nr\n"
   ]
  },
  {
   "cell_type": "code",
   "execution_count": 18,
   "id": "5987013d",
   "metadata": {},
   "outputs": [
    {
     "data": {
      "text/plain": [
       "array([1, 2, 3, 5])"
      ]
     },
     "execution_count": 18,
     "metadata": {},
     "output_type": "execute_result"
    }
   ],
   "source": [
    "#to delete based on index position:\n",
    "nr=np.delete(np_ar,3)\n",
    "nr"
   ]
  },
  {
   "cell_type": "code",
   "execution_count": 19,
   "id": "0c4b914a",
   "metadata": {},
   "outputs": [
    {
     "data": {
      "text/plain": [
       "array([1, 4, 5])"
      ]
     },
     "execution_count": 19,
     "metadata": {},
     "output_type": "execute_result"
    }
   ],
   "source": [
    "#to delete multiple values based on index position:\n",
    "nr = np.delete(np_ar, [1,2])\n",
    "nr"
   ]
  },
  {
   "cell_type": "code",
   "execution_count": 20,
   "id": "aaad74f5",
   "metadata": {},
   "outputs": [
    {
     "data": {
      "text/plain": [
       "array([ 1,  2,  3,  4,  5, 56, 78, 98])"
      ]
     },
     "execution_count": 20,
     "metadata": {},
     "output_type": "execute_result"
    }
   ],
   "source": [
    "l1 =[1,2,3,4,5,56,78,98]\n",
    "new_ar = np.array(l1)\n",
    "new_ar"
   ]
  },
  {
   "cell_type": "code",
   "execution_count": 21,
   "id": "a01f9a12",
   "metadata": {},
   "outputs": [
    {
     "data": {
      "text/plain": [
       "array([ True,  True,  True,  True,  True, False, False, False])"
      ]
     },
     "execution_count": 21,
     "metadata": {},
     "output_type": "execute_result"
    }
   ],
   "source": [
    "#Filter in numpy\n",
    "new_ar<30"
   ]
  },
  {
   "cell_type": "code",
   "execution_count": 22,
   "id": "ca56c568",
   "metadata": {},
   "outputs": [
    {
     "data": {
      "text/plain": [
       "array([1, 2, 3, 4, 5])"
      ]
     },
     "execution_count": 22,
     "metadata": {},
     "output_type": "execute_result"
    }
   ],
   "source": [
    "new_ar[new_ar<30]"
   ]
  },
  {
   "cell_type": "code",
   "execution_count": 23,
   "id": "eb14c3a0",
   "metadata": {},
   "outputs": [
    {
     "data": {
      "text/plain": [
       "array([ 1,  2,  3,  4,  5, 56, 78, 98])"
      ]
     },
     "execution_count": 23,
     "metadata": {},
     "output_type": "execute_result"
    }
   ],
   "source": [
    "new_ar"
   ]
  },
  {
   "cell_type": "code",
   "execution_count": 24,
   "id": "2418fc51",
   "metadata": {},
   "outputs": [
    {
     "data": {
      "text/plain": [
       "array([False, False, False, False, False, False, False, False])"
      ]
     },
     "execution_count": 24,
     "metadata": {},
     "output_type": "execute_result"
    }
   ],
   "source": [
    "#print the values < 20 and values >50\n",
    "#-->for and operation using &\n",
    "#--> for or operation use\n",
    "(new_ar<20)&(new_ar>50)"
   ]
  },
  {
   "cell_type": "code",
   "execution_count": 25,
   "id": "8d7fd81d",
   "metadata": {},
   "outputs": [
    {
     "data": {
      "text/plain": [
       "array([2, 3, 4, 5])"
      ]
     },
     "execution_count": 25,
     "metadata": {},
     "output_type": "execute_result"
    }
   ],
   "source": [
    "new_ar[(new_ar>1)&(new_ar<50)]"
   ]
  },
  {
   "cell_type": "code",
   "execution_count": 26,
   "id": "cdcd9feb",
   "metadata": {},
   "outputs": [
    {
     "data": {
      "text/plain": [
       "array([False, False,  True, False, False, False, False, False])"
      ]
     },
     "execution_count": 26,
     "metadata": {},
     "output_type": "execute_result"
    }
   ],
   "source": [
    "new_ar==3"
   ]
  },
  {
   "cell_type": "code",
   "execution_count": 27,
   "id": "4951d06b",
   "metadata": {},
   "outputs": [],
   "source": [
    "new_ar[new_ar==3]=6"
   ]
  },
  {
   "cell_type": "code",
   "execution_count": 28,
   "id": "8bcc24d7",
   "metadata": {},
   "outputs": [
    {
     "data": {
      "text/plain": [
       "array([ 1,  2,  6,  4,  5, 56, 78, 98])"
      ]
     },
     "execution_count": 28,
     "metadata": {},
     "output_type": "execute_result"
    }
   ],
   "source": [
    "new_ar"
   ]
  },
  {
   "cell_type": "code",
   "execution_count": 29,
   "id": "2e2f6c04",
   "metadata": {},
   "outputs": [
    {
     "data": {
      "text/plain": [
       "array([0., 0., 0., 0., 0.])"
      ]
     },
     "execution_count": 29,
     "metadata": {},
     "output_type": "execute_result"
    }
   ],
   "source": [
    "#to create array full of zeroes\n",
    "np.zeros(5)"
   ]
  },
  {
   "cell_type": "code",
   "execution_count": 30,
   "id": "2c5cfef8",
   "metadata": {},
   "outputs": [
    {
     "data": {
      "text/plain": [
       "array([0., 0., 0., 0., 0.])"
      ]
     },
     "execution_count": 30,
     "metadata": {},
     "output_type": "execute_result"
    }
   ],
   "source": [
    "#to create 1d array full of zeros\n",
    "np.zeros(5)"
   ]
  },
  {
   "cell_type": "code",
   "execution_count": 31,
   "id": "58f076d4",
   "metadata": {},
   "outputs": [
    {
     "data": {
      "text/plain": [
       "array([[0., 0., 0., 0., 0.],\n",
       "       [0., 0., 0., 0., 0.],\n",
       "       [0., 0., 0., 0., 0.]])"
      ]
     },
     "execution_count": 31,
     "metadata": {},
     "output_type": "execute_result"
    }
   ],
   "source": [
    "#to create 2d array full of zeros\n",
    "#syntax -->np.zeros([num_of_rows,num_of_cols])\n",
    "np.zeros([3,5])"
   ]
  },
  {
   "cell_type": "code",
   "execution_count": 32,
   "id": "c7cd7df1",
   "metadata": {},
   "outputs": [
    {
     "data": {
      "text/plain": [
       "array([1., 1., 1., 1.])"
      ]
     },
     "execution_count": 32,
     "metadata": {},
     "output_type": "execute_result"
    }
   ],
   "source": [
    "#to create array full of ones\n",
    "np.ones(4)"
   ]
  },
  {
   "cell_type": "code",
   "execution_count": 33,
   "id": "bab2db39",
   "metadata": {},
   "outputs": [
    {
     "data": {
      "text/plain": [
       "array([[1., 1., 1., 1.],\n",
       "       [1., 1., 1., 1.],\n",
       "       [1., 1., 1., 1.]])"
      ]
     },
     "execution_count": 33,
     "metadata": {},
     "output_type": "execute_result"
    }
   ],
   "source": [
    "np.ones([3,4])"
   ]
  },
  {
   "cell_type": "code",
   "execution_count": 35,
   "id": "8ede5f48",
   "metadata": {},
   "outputs": [
    {
     "data": {
      "text/plain": [
       "array([[2., 2., 2., 2., 2., 2., 2.],\n",
       "       [2., 2., 2., 2., 2., 2., 2.],\n",
       "       [2., 2., 2., 2., 2., 2., 2.]])"
      ]
     },
     "execution_count": 35,
     "metadata": {},
     "output_type": "execute_result"
    }
   ],
   "source": [
    "ar=np.ones([3,7])+1\n",
    "ar"
   ]
  },
  {
   "cell_type": "code",
   "execution_count": 36,
   "id": "4fd0e5ef",
   "metadata": {},
   "outputs": [
    {
     "data": {
      "text/plain": [
       "dtype('float64')"
      ]
     },
     "execution_count": 36,
     "metadata": {},
     "output_type": "execute_result"
    }
   ],
   "source": [
    "#type convert the element in to the array\n",
    "# to find the numpy data type of element present in array-->dtype\n",
    "#type(ar)\n",
    "ar.dtype"
   ]
  },
  {
   "cell_type": "code",
   "execution_count": 37,
   "id": "9a3c7380",
   "metadata": {},
   "outputs": [
    {
     "data": {
      "text/plain": [
       "array([[1, 1, 1, 1, 1, 1, 1],\n",
       "       [1, 1, 1, 1, 1, 1, 1],\n",
       "       [1, 1, 1, 1, 1, 1, 1]])"
      ]
     },
     "execution_count": 37,
     "metadata": {},
     "output_type": "execute_result"
    }
   ],
   "source": [
    "\n",
    "\n",
    "ar=np.ones([3,7],dtype=int)\n",
    "ar"
   ]
  },
  {
   "cell_type": "code",
   "execution_count": 38,
   "id": "4f12cea6",
   "metadata": {},
   "outputs": [
    {
     "data": {
      "text/plain": [
       "dtype('int32')"
      ]
     },
     "execution_count": 38,
     "metadata": {},
     "output_type": "execute_result"
    }
   ],
   "source": [
    "ar.dtype"
   ]
  },
  {
   "cell_type": "code",
   "execution_count": 39,
   "id": "db35baf7",
   "metadata": {},
   "outputs": [
    {
     "data": {
      "text/plain": [
       "array([[0, 0, 0, 0],\n",
       "       [0, 0, 0, 0]], dtype=int16)"
      ]
     },
     "execution_count": 39,
     "metadata": {},
     "output_type": "execute_result"
    }
   ],
   "source": [
    "#we can convert the values into various bits\n",
    "#they are\n",
    "# int8,int16,int32,int64\n",
    "#float16,float32,float64\n",
    "#complex64,complex128\n",
    "#unit32,unit16\n",
    "ar=np.zeros([2,4],dtype='int16')\n",
    "ar"
   ]
  },
  {
   "cell_type": "code",
   "execution_count": 40,
   "id": "150d8a78",
   "metadata": {},
   "outputs": [
    {
     "data": {
      "text/plain": [
       "array([[0., 0., 0., 0.],\n",
       "       [0., 0., 0., 0.]], dtype=float16)"
      ]
     },
     "execution_count": 40,
     "metadata": {},
     "output_type": "execute_result"
    }
   ],
   "source": [
    "ar=np.zeros([2,4],dtype='float16')\n",
    "ar"
   ]
  },
  {
   "cell_type": "code",
   "execution_count": 41,
   "id": "ad02840d",
   "metadata": {},
   "outputs": [
    {
     "data": {
      "text/plain": [
       "array([[0., 0., 0., 0., 0., 0., 0., 0., 0.],\n",
       "       [0., 0., 0., 0., 0., 0., 0., 0., 0.],\n",
       "       [0., 0., 0., 0., 0., 0., 0., 0., 0.],\n",
       "       [0., 0., 0., 0., 0., 0., 0., 0., 0.],\n",
       "       [0., 0., 0., 0., 0., 0., 0., 0., 0.],\n",
       "       [0., 0., 0., 0., 0., 0., 0., 0., 0.],\n",
       "       [0., 0., 0., 0., 0., 0., 0., 0., 0.],\n",
       "       [0., 0., 0., 0., 0., 0., 0., 0., 0.],\n",
       "       [0., 0., 0., 0., 0., 0., 0., 0., 0.]], dtype=float16)"
      ]
     },
     "execution_count": 41,
     "metadata": {},
     "output_type": "execute_result"
    }
   ],
   "source": [
    "ar=np.zeros([9,9],dtype='float16')\n",
    "ar"
   ]
  },
  {
   "cell_type": "code",
   "execution_count": 42,
   "id": "2d3401b8",
   "metadata": {},
   "outputs": [
    {
     "data": {
      "text/plain": [
       "array([[0, 0, 0, 0, 0, 0, 0, 0, 0],\n",
       "       [0, 0, 0, 0, 0, 0, 0, 0, 0],\n",
       "       [0, 0, 0, 0, 0, 0, 0, 0, 0],\n",
       "       [0, 0, 0, 0, 0, 0, 0, 0, 0],\n",
       "       [0, 0, 0, 0, 0, 0, 0, 0, 0],\n",
       "       [0, 0, 0, 0, 0, 0, 0, 0, 0],\n",
       "       [0, 0, 0, 0, 0, 0, 0, 0, 0],\n",
       "       [0, 0, 0, 0, 0, 0, 0, 0, 0],\n",
       "       [0, 0, 0, 0, 0, 0, 0, 0, 0]], dtype=int16)"
      ]
     },
     "execution_count": 42,
     "metadata": {},
     "output_type": "execute_result"
    }
   ],
   "source": [
    "ar=np.zeros([9,9],dtype='int16')\n",
    "ar"
   ]
  },
  {
   "cell_type": "code",
   "execution_count": 43,
   "id": "63464279",
   "metadata": {},
   "outputs": [
    {
     "data": {
      "text/plain": [
       "array([[0.+0.j, 0.+0.j, 0.+0.j, 0.+0.j],\n",
       "       [0.+0.j, 0.+0.j, 0.+0.j, 0.+0.j]], dtype=complex64)"
      ]
     },
     "execution_count": 43,
     "metadata": {},
     "output_type": "execute_result"
    }
   ],
   "source": [
    "ar=np.zeros([2,4],dtype='complex64')\n",
    "ar"
   ]
  },
  {
   "cell_type": "code",
   "execution_count": 44,
   "id": "1d070833",
   "metadata": {},
   "outputs": [
    {
     "data": {
      "text/plain": [
       "array([[0, 0, 0, 0],\n",
       "       [0, 0, 0, 0]], dtype=uint16)"
      ]
     },
     "execution_count": 44,
     "metadata": {},
     "output_type": "execute_result"
    }
   ],
   "source": [
    "ar=np.zeros([2,4],dtype='uint16')\n",
    "ar"
   ]
  },
  {
   "cell_type": "code",
   "execution_count": 45,
   "id": "e8fdd3c3",
   "metadata": {},
   "outputs": [
    {
     "data": {
      "text/plain": [
       "array([[0, 0, 0, 0],\n",
       "       [0, 0, 0, 0]], dtype=int16)"
      ]
     },
     "execution_count": 45,
     "metadata": {},
     "output_type": "execute_result"
    }
   ],
   "source": [
    "np.int16(ar)"
   ]
  },
  {
   "cell_type": "code",
   "execution_count": 46,
   "id": "8e6896a1",
   "metadata": {},
   "outputs": [
    {
     "data": {
      "text/plain": [
       "array([[0.+0.j, 0.+0.j, 0.+0.j, 0.+0.j],\n",
       "       [0.+0.j, 0.+0.j, 0.+0.j, 0.+0.j]], dtype=complex64)"
      ]
     },
     "execution_count": 46,
     "metadata": {},
     "output_type": "execute_result"
    }
   ],
   "source": [
    "np.complex64(ar)"
   ]
  },
  {
   "cell_type": "code",
   "execution_count": 47,
   "id": "e413e2c9",
   "metadata": {},
   "outputs": [
    {
     "data": {
      "text/plain": [
       "array([ 1,  2,  3,  4,  5,  6,  7,  8,  9, 10, 11, 12, 13, 14, 15, 16, 17,\n",
       "       18, 19, 20, 21, 22, 23, 24, 25, 26, 27, 28, 29, 30, 31, 32, 33, 34,\n",
       "       35, 36])"
      ]
     },
     "execution_count": 47,
     "metadata": {},
     "output_type": "execute_result"
    }
   ],
   "source": [
    "#1.how to craete range of element as array\n",
    "#2.how to convert a 1d array to multidimensional array\n",
    "#3.how to create array of identity matrix\n",
    "#4.how to perform slicing in multidimensional array\n",
    "#5.how to find mean,median,sum,variance,standard deviation of an array\n",
    "ar=np.arange(1,37)\n",
    "ar"
   ]
  },
  {
   "cell_type": "code",
   "execution_count": 48,
   "id": "d07c5c79",
   "metadata": {},
   "outputs": [
    {
     "data": {
      "text/plain": [
       "array([[1, 2, 3],\n",
       "       [4, 5, 6]])"
      ]
     },
     "execution_count": 48,
     "metadata": {},
     "output_type": "execute_result"
    }
   ],
   "source": [
    "ar=np.array([1,2,3,4,5,6])\n",
    "arr2=ar.reshape(2,3)\n",
    "arr2"
   ]
  },
  {
   "cell_type": "code",
   "execution_count": 49,
   "id": "9ffdabcf",
   "metadata": {},
   "outputs": [
    {
     "data": {
      "text/plain": [
       "array([[1., 0., 0.],\n",
       "       [0., 1., 0.],\n",
       "       [0., 0., 1.]])"
      ]
     },
     "execution_count": 49,
     "metadata": {},
     "output_type": "execute_result"
    }
   ],
   "source": [
    "ar=np.identity(3)\n",
    "ar"
   ]
  },
  {
   "cell_type": "code",
   "execution_count": 50,
   "id": "9adf20da",
   "metadata": {},
   "outputs": [
    {
     "data": {
      "text/plain": [
       "array([], shape=(1, 2, 0), dtype=int32)"
      ]
     },
     "execution_count": 50,
     "metadata": {},
     "output_type": "execute_result"
    }
   ],
   "source": [
    "ar = np.array([[[1, 2, 3], [4, 5, 6]], [[7, 8, 9], [10, 11, 12]]])\n",
    "sa= ar[0:1, 0:2,1:1]\n",
    "sa"
   ]
  },
  {
   "cell_type": "code",
   "execution_count": 51,
   "id": "6be67817",
   "metadata": {},
   "outputs": [],
   "source": [
    "ar = np.arange(25)"
   ]
  },
  {
   "cell_type": "code",
   "execution_count": 52,
   "id": "919505fe",
   "metadata": {},
   "outputs": [
    {
     "data": {
      "text/plain": [
       "array([ 0,  1,  2,  3,  4,  5,  6,  7,  8,  9, 10, 11, 12, 13, 14, 15, 16,\n",
       "       17, 18, 19, 20, 21, 22, 23, 24])"
      ]
     },
     "execution_count": 52,
     "metadata": {},
     "output_type": "execute_result"
    }
   ],
   "source": [
    "ar"
   ]
  },
  {
   "cell_type": "code",
   "execution_count": 53,
   "id": "7c7c8f79",
   "metadata": {},
   "outputs": [
    {
     "data": {
      "text/plain": [
       "array([[ 0,  1,  2,  3,  4],\n",
       "       [ 5,  6,  7,  8,  9],\n",
       "       [10, 11, 12, 13, 14],\n",
       "       [15, 16, 17, 18, 19],\n",
       "       [20, 21, 22, 23, 24]])"
      ]
     },
     "execution_count": 53,
     "metadata": {},
     "output_type": "execute_result"
    }
   ],
   "source": [
    "ar1 = ar.reshape(5, 5)\n",
    "ar1"
   ]
  },
  {
   "cell_type": "code",
   "execution_count": 54,
   "id": "4b50f671",
   "metadata": {},
   "outputs": [
    {
     "name": "stdout",
     "output_type": "stream",
     "text": [
      "3.0\n",
      "3.0\n",
      "15\n",
      "2.0\n",
      "1.4142135623730951\n"
     ]
    }
   ],
   "source": [
    "ar= np.array([1, 2, 3, 4, 5])\n",
    "mean = np.mean(ar)\n",
    "median = np.median(ar)\n",
    "sum = np.sum(ar)\n",
    "variance = np.var(ar)\n",
    "standard_deviation = np.std(ar)\n",
    "print(mean)\n",
    "print(median)\n",
    "print(sum)\n",
    "print(variance)\n",
    "print(standard_deviation)"
   ]
  },
  {
   "cell_type": "code",
   "execution_count": null,
   "id": "1717feaf",
   "metadata": {},
   "outputs": [],
   "source": []
  }
 ],
 "metadata": {
  "kernelspec": {
   "display_name": "Python 3 (ipykernel)",
   "language": "python",
   "name": "python3"
  },
  "language_info": {
   "codemirror_mode": {
    "name": "ipython",
    "version": 3
   },
   "file_extension": ".py",
   "mimetype": "text/x-python",
   "name": "python",
   "nbconvert_exporter": "python",
   "pygments_lexer": "ipython3",
   "version": "3.11.5"
  }
 },
 "nbformat": 4,
 "nbformat_minor": 5
}
